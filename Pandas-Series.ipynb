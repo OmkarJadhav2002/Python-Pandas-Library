{
 "cells": [
  {
   "cell_type": "markdown",
   "id": "18d19f48",
   "metadata": {},
   "source": [
    "## Pandas Series\n",
    "\n",
    "* Pandas object\n",
    "* column in a table. \n",
    "* It is a 1D array holding data of any type.\n",
    "* Contains index and its value\n"
   ]
  },
  {
   "cell_type": "code",
   "execution_count": 20,
   "id": "7f6d20d5",
   "metadata": {},
   "outputs": [],
   "source": [
    "import numpy as np\n",
    "import pandas as pd"
   ]
  },
  {
   "cell_type": "markdown",
   "id": "2b545c62",
   "metadata": {},
   "source": [
    "### Series from list"
   ]
  },
  {
   "cell_type": "code",
   "execution_count": 21,
   "id": "8cdcce69",
   "metadata": {},
   "outputs": [
    {
     "data": {
      "text/plain": [
       "0       India\n",
       "1         USA\n",
       "2      Russia\n",
       "3    Srilanka\n",
       "4       Japan\n",
       "dtype: object"
      ]
     },
     "execution_count": 21,
     "metadata": {},
     "output_type": "execute_result"
    }
   ],
   "source": [
    "# String Series\n",
    "country = [\"India\", \"USA\", \"Russia\", \"Srilanka\", \"Japan\"]\n",
    "pd.Series(country)"
   ]
  },
  {
   "cell_type": "code",
   "execution_count": 22,
   "id": "b92bf999",
   "metadata": {},
   "outputs": [
    {
     "data": {
      "text/plain": [
       "0    100\n",
       "1     34\n",
       "2     50\n",
       "3     56\n",
       "4     12\n",
       "dtype: int32"
      ]
     },
     "execution_count": 22,
     "metadata": {},
     "output_type": "execute_result"
    }
   ],
   "source": [
    "# integere Series\n",
    "runs = [100, 34, 50, 56, 12]\n",
    "pd.Series(runs).astype(int)"
   ]
  },
  {
   "cell_type": "code",
   "execution_count": 23,
   "id": "b111189f",
   "metadata": {},
   "outputs": [
    {
     "data": {
      "text/plain": [
       "97      Maths\n",
       "64         MC\n",
       "61         DC\n",
       "89    History\n",
       "dtype: object"
      ]
     },
     "execution_count": 23,
     "metadata": {},
     "output_type": "execute_result"
    }
   ],
   "source": [
    "# Series with custom index\n",
    "marks = [97, 64, 61, 89]\n",
    "subjects = [\"Maths\", \"MC\", \"DC\", \"History\"]\n",
    "\n",
    "pd.Series(subjects, index=marks)"
   ]
  },
  {
   "cell_type": "code",
   "execution_count": 24,
   "id": "88b3f270",
   "metadata": {},
   "outputs": [
    {
     "data": {
      "text/plain": [
       "97      Maths\n",
       "64         MC\n",
       "61         DC\n",
       "89    History\n",
       "Name: Omi's Marks, dtype: object"
      ]
     },
     "execution_count": 24,
     "metadata": {},
     "output_type": "execute_result"
    }
   ],
   "source": [
    "# Giving name to Series\n",
    "marks = pd.Series(subjects, index=marks, name=\"Omi's Marks\")\n",
    "marks"
   ]
  },
  {
   "cell_type": "markdown",
   "id": "d4bd6fdb",
   "metadata": {},
   "source": [
    "### Series from dict"
   ]
  },
  {
   "cell_type": "code",
   "execution_count": 25,
   "id": "eba9d9c4",
   "metadata": {},
   "outputs": [
    {
     "data": {
      "text/plain": [
       "Maths      97\n",
       "English    78\n",
       "MC         80\n",
       "History    89\n",
       "Name: Omi's Marks, dtype: int64"
      ]
     },
     "execution_count": 25,
     "metadata": {},
     "output_type": "execute_result"
    }
   ],
   "source": [
    "marks = {\"Maths\":97,\n",
    "        \"English\":78,\n",
    "        \"MC\":80,\n",
    "        \"History\":89}\n",
    "\n",
    "marks_series  = pd.Series(marks, name=\"Omi's Marks\")\n",
    "marks_series"
   ]
  },
  {
   "cell_type": "markdown",
   "id": "d54cfde2",
   "metadata": {},
   "source": [
    "### Series Attributes"
   ]
  },
  {
   "cell_type": "code",
   "execution_count": 26,
   "id": "30241715",
   "metadata": {},
   "outputs": [
    {
     "data": {
      "text/plain": [
       "4"
      ]
     },
     "execution_count": 26,
     "metadata": {},
     "output_type": "execute_result"
    }
   ],
   "source": [
    "# size\n",
    "marks_series.size"
   ]
  },
  {
   "cell_type": "code",
   "execution_count": 27,
   "id": "99dc275f",
   "metadata": {},
   "outputs": [
    {
     "data": {
      "text/plain": [
       "dtype('int64')"
      ]
     },
     "execution_count": 27,
     "metadata": {},
     "output_type": "execute_result"
    }
   ],
   "source": [
    "# dtype\n",
    "marks_series.dtype"
   ]
  },
  {
   "cell_type": "code",
   "execution_count": 28,
   "id": "83df33ef",
   "metadata": {},
   "outputs": [
    {
     "data": {
      "text/plain": [
       "\"Omi's Marks\""
      ]
     },
     "execution_count": 28,
     "metadata": {},
     "output_type": "execute_result"
    }
   ],
   "source": [
    "# name\n",
    "marks_series.name"
   ]
  },
  {
   "cell_type": "code",
   "execution_count": 29,
   "id": "09bfd547",
   "metadata": {},
   "outputs": [
    {
     "data": {
      "text/plain": [
       "True"
      ]
     },
     "execution_count": 29,
     "metadata": {},
     "output_type": "execute_result"
    }
   ],
   "source": [
    "# is_unique\n",
    "marks_series.is_unique"
   ]
  },
  {
   "cell_type": "code",
   "execution_count": 30,
   "id": "e2332fe7",
   "metadata": {},
   "outputs": [
    {
     "data": {
      "text/plain": [
       "Index(['Maths', 'English', 'MC', 'History'], dtype='object')"
      ]
     },
     "execution_count": 30,
     "metadata": {},
     "output_type": "execute_result"
    }
   ],
   "source": [
    "# index\n",
    "marks_series.index"
   ]
  },
  {
   "cell_type": "code",
   "execution_count": 31,
   "id": "5179fd1a",
   "metadata": {},
   "outputs": [
    {
     "data": {
      "text/plain": [
       "array([97, 78, 80, 89], dtype=int64)"
      ]
     },
     "execution_count": 31,
     "metadata": {},
     "output_type": "execute_result"
    }
   ],
   "source": [
    "# values\n",
    "marks_series.values"
   ]
  },
  {
   "cell_type": "markdown",
   "id": "0d1800f4",
   "metadata": {},
   "source": [
    "### Series using read_csv"
   ]
  },
  {
   "cell_type": "code",
   "execution_count": 37,
   "id": "53cab75b",
   "metadata": {},
   "outputs": [
    {
     "name": "stdout",
     "output_type": "stream",
     "text": [
      "<class 'pandas.core.series.Series'>\n"
     ]
    },
    {
     "data": {
      "text/plain": [
       "0    48\n",
       "1    57\n",
       "2    40\n",
       "3    43\n",
       "4    44\n",
       "Name: Subscribers gained, dtype: int64"
      ]
     },
     "execution_count": 37,
     "metadata": {},
     "output_type": "execute_result"
    }
   ],
   "source": [
    "# converting dataframe to series => .sqeeze(True)\n",
    "\n",
    "subs = pd.read_csv(\"csv-files/subs.csv\").squeeze(True)\n",
    "# subs.sample(10)\n",
    "print(type(subs))\n",
    "subs.head()"
   ]
  },
  {
   "cell_type": "code",
   "execution_count": 38,
   "id": "47e3ac32",
   "metadata": {},
   "outputs": [
    {
     "name": "stdout",
     "output_type": "stream",
     "text": [
      "<class 'pandas.core.series.Series'>\n"
     ]
    },
    {
     "data": {
      "text/plain": [
       "match_no\n",
       "197    51\n",
       "51     31\n",
       "75      1\n",
       "108    48\n",
       "49     15\n",
       "59     16\n",
       "163     8\n",
       "53      8\n",
       "215     7\n",
       "175    72\n",
       "Name: runs, dtype: int64"
      ]
     },
     "execution_count": 38,
     "metadata": {},
     "output_type": "execute_result"
    }
   ],
   "source": [
    "kohli = pd.read_csv(\"csv-files/kohli_ipl.csv\", index_col=\"match_no\").squeeze(True)\n",
    "print(type(kohli))\n",
    "kohli.sample(10)"
   ]
  },
  {
   "cell_type": "code",
   "execution_count": 39,
   "id": "21c2454b",
   "metadata": {},
   "outputs": [
    {
     "name": "stdout",
     "output_type": "stream",
     "text": [
      "<class 'pandas.core.series.Series'>\n"
     ]
    },
    {
     "data": {
      "text/plain": [
       "movie\n",
       "Hum Tumhare Hain Sanam      Shah Rukh Khan\n",
       "Aankhen (2002 film)       Amitabh Bachchan\n",
       "Saathiya (film)               Vivek Oberoi\n",
       "Company (film)                  Ajay Devgn\n",
       "Awara Paagal Deewana          Akshay Kumar\n",
       "Name: lead, dtype: object"
      ]
     },
     "execution_count": 39,
     "metadata": {},
     "output_type": "execute_result"
    }
   ],
   "source": [
    "bo = pd.read_csv(\"csv-files/bollywood - bollywood.csv\", index_col=\"movie\").squeeze(True)\n",
    "print(type(bo))\n",
    "bo.tail()"
   ]
  },
  {
   "cell_type": "markdown",
   "id": "5d272b6b",
   "metadata": {},
   "source": [
    "### Series methods"
   ]
  },
  {
   "cell_type": "code",
   "execution_count": 40,
   "id": "df4896ed",
   "metadata": {},
   "outputs": [
    {
     "data": {
      "text/plain": [
       "match_no\n",
       "1     1\n",
       "2    23\n",
       "3    13\n",
       "4    12\n",
       "5     1\n",
       "Name: runs, dtype: int64"
      ]
     },
     "execution_count": 40,
     "metadata": {},
     "output_type": "execute_result"
    }
   ],
   "source": [
    "# To get the preview of data\n",
    "# head() and tail()\n",
    "kohli.head()"
   ]
  },
  {
   "cell_type": "code",
   "execution_count": 41,
   "id": "06450a33",
   "metadata": {},
   "outputs": [
    {
     "data": {
      "text/plain": [
       "match_no\n",
       "213    73\n",
       "214    25\n",
       "215     7\n",
       "Name: runs, dtype: int64"
      ]
     },
     "execution_count": 41,
     "metadata": {},
     "output_type": "execute_result"
    }
   ],
   "source": [
    "kohli.tail(3)"
   ]
  },
  {
   "cell_type": "code",
   "execution_count": 42,
   "id": "79b98d00",
   "metadata": {},
   "outputs": [
    {
     "data": {
      "text/plain": [
       "movie\n",
       "Hey Bro    Ganesh Acharya\n",
       "Name: lead, dtype: object"
      ]
     },
     "execution_count": 42,
     "metadata": {},
     "output_type": "execute_result"
    }
   ],
   "source": [
    "# sample: randomly gives the 1 row (use when you have bias in your dataset)\n",
    "bo.sample()"
   ]
  },
  {
   "cell_type": "code",
   "execution_count": 43,
   "id": "60f464e2",
   "metadata": {},
   "outputs": [
    {
     "data": {
      "text/plain": [
       "Akshay Kumar        48\n",
       "Amitabh Bachchan    45\n",
       "Ajay Devgn          38\n",
       "Salman Khan         31\n",
       "Sanjay Dutt         26\n",
       "                    ..\n",
       "Diganth              1\n",
       "Parveen Kaur         1\n",
       "Seema Azmi           1\n",
       "Akanksha Puri        1\n",
       "Edwin Fernandes      1\n",
       "Name: lead, Length: 566, dtype: int64"
      ]
     },
     "execution_count": 43,
     "metadata": {},
     "output_type": "execute_result"
    }
   ],
   "source": [
    "# value_counts\n",
    "bo.value_counts()"
   ]
  },
  {
   "cell_type": "code",
   "execution_count": 44,
   "id": "7540ddc8",
   "metadata": {},
   "outputs": [
    {
     "data": {
      "text/plain": [
       "113"
      ]
     },
     "execution_count": 44,
     "metadata": {},
     "output_type": "execute_result"
    }
   ],
   "source": [
    "# sort_values\n",
    "# Get the highest score of V Kohli\n",
    "# kohli.sort_values(ascending=False).head(1).values[0]\n",
    "# or\n",
    "kohli.sort_values().tail(1).values[0]"
   ]
  },
  {
   "cell_type": "code",
   "execution_count": 45,
   "id": "14922b67",
   "metadata": {},
   "outputs": [
    {
     "data": {
      "text/plain": [
       "movie\n",
       "Zor Lagaa Ke...Haiya!            Meghan Jadhav\n",
       "Zokkomon                       Darsheel Safary\n",
       "Zindagi Tere Naam           Mithun Chakraborty\n",
       "Zindagi Na Milegi Dobara        Hrithik Roshan\n",
       "Zindagi 50-50                      Veena Malik\n",
       "                                   ...        \n",
       "2 States (2014 film)              Arjun Kapoor\n",
       "1971 (2007 film)                Manoj Bajpayee\n",
       "1920: The Evil Returns             Vicky Ahuja\n",
       "1920: London                     Sharman Joshi\n",
       "1920 (film)                   Rajniesh Duggall\n",
       "Name: lead, Length: 1500, dtype: object"
      ]
     },
     "execution_count": 45,
     "metadata": {},
     "output_type": "execute_result"
    }
   ],
   "source": [
    "# sort_index()\n",
    "# bo.sort_index()\n",
    "bo.sort_index(ascending=False)"
   ]
  },
  {
   "cell_type": "markdown",
   "id": "23ccfd79",
   "metadata": {},
   "source": [
    "### Series maths methods"
   ]
  },
  {
   "cell_type": "code",
   "execution_count": 96,
   "id": "da35dbf3",
   "metadata": {},
   "outputs": [
    {
     "data": {
      "text/plain": [
       "215"
      ]
     },
     "execution_count": 96,
     "metadata": {},
     "output_type": "execute_result"
    }
   ],
   "source": [
    "# count\n",
    "kohli.count()"
   ]
  },
  {
   "cell_type": "code",
   "execution_count": 97,
   "id": "2eda2ff6",
   "metadata": {},
   "outputs": [
    {
     "data": {
      "text/plain": [
       "49510"
      ]
     },
     "execution_count": 97,
     "metadata": {},
     "output_type": "execute_result"
    }
   ],
   "source": [
    "# sum\n",
    "subs.sum()"
   ]
  },
  {
   "cell_type": "code",
   "execution_count": 98,
   "id": "6cc14f75",
   "metadata": {},
   "outputs": [
    {
     "data": {
      "text/plain": [
       "0"
      ]
     },
     "execution_count": 98,
     "metadata": {},
     "output_type": "execute_result"
    }
   ],
   "source": [
    "subs.prod()"
   ]
  },
  {
   "cell_type": "code",
   "execution_count": 105,
   "id": "0f2402a3",
   "metadata": {},
   "outputs": [
    {
     "name": "stdout",
     "output_type": "stream",
     "text": [
      "135.64383561643837\n",
      "24.0\n",
      "0    Akshay Kumar\n",
      "Name: lead, dtype: object\n",
      "62.67502303725269\n",
      "688.0024777222344\n"
     ]
    }
   ],
   "source": [
    "# mean, median, mode, std, var\n",
    "print(subs.mean())\n",
    "print(kohli.median())\n",
    "print(bo.mode())\n",
    "print(subs.std())\n",
    "print(kohli.var())"
   ]
  },
  {
   "cell_type": "code",
   "execution_count": 106,
   "id": "b4c1896d",
   "metadata": {},
   "outputs": [
    {
     "name": "stdout",
     "output_type": "stream",
     "text": [
      "33\n",
      "396\n"
     ]
    }
   ],
   "source": [
    "# min, max\n",
    "print(subs.min())\n",
    "print(subs.max())"
   ]
  },
  {
   "cell_type": "code",
   "execution_count": 110,
   "id": "7dc21788",
   "metadata": {},
   "outputs": [
    {
     "name": "stdout",
     "output_type": "stream",
     "text": [
      "count    365.000000\n",
      "mean     135.643836\n",
      "std       62.675023\n",
      "min       33.000000\n",
      "25%       88.000000\n",
      "50%      123.000000\n",
      "75%      177.000000\n",
      "max      396.000000\n",
      "Name: Subscribers gained, dtype: float64 \n",
      "\n",
      "count    215.000000\n",
      "mean      30.855814\n",
      "std       26.229801\n",
      "min        0.000000\n",
      "25%        9.000000\n",
      "50%       24.000000\n",
      "75%       48.000000\n",
      "max      113.000000\n",
      "Name: runs, dtype: float64\n"
     ]
    }
   ],
   "source": [
    "# describe\n",
    "print(subs.describe(), '\\n')\n",
    "print(kohli.describe())"
   ]
  },
  {
   "cell_type": "markdown",
   "id": "0cc1872f",
   "metadata": {},
   "source": [
    "### Series Indexing"
   ]
  },
  {
   "cell_type": "code",
   "execution_count": 46,
   "id": "19893912",
   "metadata": {},
   "outputs": [
    {
     "data": {
      "text/plain": [
       "90"
      ]
     },
     "execution_count": 46,
     "metadata": {},
     "output_type": "execute_result"
    }
   ],
   "source": [
    "x = pd.Series([12, 13, 45, 89, 90, 23, 45, 9, 78])\n",
    "x[4]"
   ]
  },
  {
   "cell_type": "code",
   "execution_count": 47,
   "id": "662d46d9",
   "metadata": {},
   "outputs": [
    {
     "ename": "KeyError",
     "evalue": "-1",
     "output_type": "error",
     "traceback": [
      "\u001b[1;31m---------------------------------------------------------------------------\u001b[0m",
      "\u001b[1;31mValueError\u001b[0m                                Traceback (most recent call last)",
      "File \u001b[1;32m~\\Desktop\\sample_project_1\\env\\lib\\site-packages\\pandas\\core\\indexes\\range.py:385\u001b[0m, in \u001b[0;36mRangeIndex.get_loc\u001b[1;34m(self, key, method, tolerance)\u001b[0m\n\u001b[0;32m    384\u001b[0m \u001b[38;5;28;01mtry\u001b[39;00m:\n\u001b[1;32m--> 385\u001b[0m     \u001b[38;5;28;01mreturn\u001b[39;00m \u001b[38;5;28;43mself\u001b[39;49m\u001b[38;5;241;43m.\u001b[39;49m\u001b[43m_range\u001b[49m\u001b[38;5;241;43m.\u001b[39;49m\u001b[43mindex\u001b[49m\u001b[43m(\u001b[49m\u001b[43mnew_key\u001b[49m\u001b[43m)\u001b[49m\n\u001b[0;32m    386\u001b[0m \u001b[38;5;28;01mexcept\u001b[39;00m \u001b[38;5;167;01mValueError\u001b[39;00m \u001b[38;5;28;01mas\u001b[39;00m err:\n",
      "\u001b[1;31mValueError\u001b[0m: -1 is not in range",
      "\nThe above exception was the direct cause of the following exception:\n",
      "\u001b[1;31mKeyError\u001b[0m                                  Traceback (most recent call last)",
      "Input \u001b[1;32mIn [47]\u001b[0m, in \u001b[0;36m<cell line: 2>\u001b[1;34m()\u001b[0m\n\u001b[0;32m      1\u001b[0m \u001b[38;5;66;03m# negative indexing (negative indexing can't apply on Series)\u001b[39;00m\n\u001b[1;32m----> 2\u001b[0m \u001b[43mx\u001b[49m\u001b[43m[\u001b[49m\u001b[38;5;241;43m-\u001b[39;49m\u001b[38;5;241;43m1\u001b[39;49m\u001b[43m]\u001b[49m\n",
      "File \u001b[1;32m~\\Desktop\\sample_project_1\\env\\lib\\site-packages\\pandas\\core\\series.py:958\u001b[0m, in \u001b[0;36mSeries.__getitem__\u001b[1;34m(self, key)\u001b[0m\n\u001b[0;32m    955\u001b[0m     \u001b[38;5;28;01mreturn\u001b[39;00m \u001b[38;5;28mself\u001b[39m\u001b[38;5;241m.\u001b[39m_values[key]\n\u001b[0;32m    957\u001b[0m \u001b[38;5;28;01melif\u001b[39;00m key_is_scalar:\n\u001b[1;32m--> 958\u001b[0m     \u001b[38;5;28;01mreturn\u001b[39;00m \u001b[38;5;28;43mself\u001b[39;49m\u001b[38;5;241;43m.\u001b[39;49m\u001b[43m_get_value\u001b[49m\u001b[43m(\u001b[49m\u001b[43mkey\u001b[49m\u001b[43m)\u001b[49m\n\u001b[0;32m    960\u001b[0m \u001b[38;5;28;01mif\u001b[39;00m is_hashable(key):\n\u001b[0;32m    961\u001b[0m     \u001b[38;5;66;03m# Otherwise index.get_value will raise InvalidIndexError\u001b[39;00m\n\u001b[0;32m    962\u001b[0m     \u001b[38;5;28;01mtry\u001b[39;00m:\n\u001b[0;32m    963\u001b[0m         \u001b[38;5;66;03m# For labels that don't resolve as scalars like tuples and frozensets\u001b[39;00m\n",
      "File \u001b[1;32m~\\Desktop\\sample_project_1\\env\\lib\\site-packages\\pandas\\core\\series.py:1069\u001b[0m, in \u001b[0;36mSeries._get_value\u001b[1;34m(self, label, takeable)\u001b[0m\n\u001b[0;32m   1066\u001b[0m     \u001b[38;5;28;01mreturn\u001b[39;00m \u001b[38;5;28mself\u001b[39m\u001b[38;5;241m.\u001b[39m_values[label]\n\u001b[0;32m   1068\u001b[0m \u001b[38;5;66;03m# Similar to Index.get_value, but we do not fall back to positional\u001b[39;00m\n\u001b[1;32m-> 1069\u001b[0m loc \u001b[38;5;241m=\u001b[39m \u001b[38;5;28;43mself\u001b[39;49m\u001b[38;5;241;43m.\u001b[39;49m\u001b[43mindex\u001b[49m\u001b[38;5;241;43m.\u001b[39;49m\u001b[43mget_loc\u001b[49m\u001b[43m(\u001b[49m\u001b[43mlabel\u001b[49m\u001b[43m)\u001b[49m\n\u001b[0;32m   1070\u001b[0m \u001b[38;5;28;01mreturn\u001b[39;00m \u001b[38;5;28mself\u001b[39m\u001b[38;5;241m.\u001b[39mindex\u001b[38;5;241m.\u001b[39m_get_values_for_loc(\u001b[38;5;28mself\u001b[39m, loc, label)\n",
      "File \u001b[1;32m~\\Desktop\\sample_project_1\\env\\lib\\site-packages\\pandas\\core\\indexes\\range.py:387\u001b[0m, in \u001b[0;36mRangeIndex.get_loc\u001b[1;34m(self, key, method, tolerance)\u001b[0m\n\u001b[0;32m    385\u001b[0m         \u001b[38;5;28;01mreturn\u001b[39;00m \u001b[38;5;28mself\u001b[39m\u001b[38;5;241m.\u001b[39m_range\u001b[38;5;241m.\u001b[39mindex(new_key)\n\u001b[0;32m    386\u001b[0m     \u001b[38;5;28;01mexcept\u001b[39;00m \u001b[38;5;167;01mValueError\u001b[39;00m \u001b[38;5;28;01mas\u001b[39;00m err:\n\u001b[1;32m--> 387\u001b[0m         \u001b[38;5;28;01mraise\u001b[39;00m \u001b[38;5;167;01mKeyError\u001b[39;00m(key) \u001b[38;5;28;01mfrom\u001b[39;00m \u001b[38;5;21;01merr\u001b[39;00m\n\u001b[0;32m    388\u001b[0m \u001b[38;5;28mself\u001b[39m\u001b[38;5;241m.\u001b[39m_check_indexing_error(key)\n\u001b[0;32m    389\u001b[0m \u001b[38;5;28;01mraise\u001b[39;00m \u001b[38;5;167;01mKeyError\u001b[39;00m(key)\n",
      "\u001b[1;31mKeyError\u001b[0m: -1"
     ]
    }
   ],
   "source": [
    "# negative indexing (negative indexing can't apply on Series)\n",
    "x[-1]"
   ]
  },
  {
   "cell_type": "code",
   "execution_count": 48,
   "id": "c7648202",
   "metadata": {},
   "outputs": [
    {
     "data": {
      "text/plain": [
       "'Akshay Kumar'"
      ]
     },
     "execution_count": 48,
     "metadata": {},
     "output_type": "execute_result"
    }
   ],
   "source": [
    "bo[-1] # ***"
   ]
  },
  {
   "cell_type": "code",
   "execution_count": 49,
   "id": "bf7115ae",
   "metadata": {},
   "outputs": [
    {
     "data": {
      "text/plain": [
       "match_no\n",
       "211     0\n",
       "212    20\n",
       "213    73\n",
       "214    25\n",
       "215     7\n",
       "Name: runs, dtype: int64"
      ]
     },
     "execution_count": 49,
     "metadata": {},
     "output_type": "execute_result"
    }
   ],
   "source": [
    "# slicing\n",
    "# kohli[5:12]\n",
    "kohli[-5:]"
   ]
  },
  {
   "cell_type": "code",
   "execution_count": 50,
   "id": "24d7cffb",
   "metadata": {},
   "outputs": [
    {
     "data": {
      "text/plain": [
       "match_no\n",
       "1     1\n",
       "4    12\n",
       "6     9\n",
       "3    13\n",
       "Name: runs, dtype: int64"
      ]
     },
     "execution_count": 50,
     "metadata": {},
     "output_type": "execute_result"
    }
   ],
   "source": [
    "# fancy indexing\n",
    "kohli[[1, 4, 6, 3]]"
   ]
  },
  {
   "cell_type": "code",
   "execution_count": 51,
   "id": "eefce27a",
   "metadata": {},
   "outputs": [
    {
     "data": {
      "text/plain": [
       "'Arjun Kapoor'"
      ]
     },
     "execution_count": 51,
     "metadata": {},
     "output_type": "execute_result"
    }
   ],
   "source": [
    "# indexing with labels\n",
    "bo[\"2 States (2014 film)\"]"
   ]
  },
  {
   "cell_type": "markdown",
   "id": "57feb57e",
   "metadata": {},
   "source": [
    "### Editing Series"
   ]
  },
  {
   "cell_type": "code",
   "execution_count": 52,
   "id": "c74b3469",
   "metadata": {},
   "outputs": [
    {
     "data": {
      "text/plain": [
       "Maths      97\n",
       "English    78\n",
       "MC         80\n",
       "History    89\n",
       "Name: Omi's Marks, dtype: int64"
      ]
     },
     "execution_count": 52,
     "metadata": {},
     "output_type": "execute_result"
    }
   ],
   "source": [
    "# using indexing\n",
    "marks_series"
   ]
  },
  {
   "cell_type": "code",
   "execution_count": 53,
   "id": "1c28cb2b",
   "metadata": {},
   "outputs": [
    {
     "data": {
      "text/plain": [
       "Maths       97\n",
       "English    100\n",
       "MC          80\n",
       "History     89\n",
       "Name: Omi's Marks, dtype: int64"
      ]
     },
     "execution_count": 53,
     "metadata": {},
     "output_type": "execute_result"
    }
   ],
   "source": [
    "marks_series[1] = 100\n",
    "marks_series"
   ]
  },
  {
   "cell_type": "code",
   "execution_count": 54,
   "id": "2b04d0a2",
   "metadata": {},
   "outputs": [],
   "source": [
    "marks_series[\"SS\"] = 98"
   ]
  },
  {
   "cell_type": "code",
   "execution_count": 55,
   "id": "b5bc9109",
   "metadata": {},
   "outputs": [
    {
     "data": {
      "text/plain": [
       "Maths       97\n",
       "English    100\n",
       "MC          80\n",
       "History     89\n",
       "SS          98\n",
       "Name: Omi's Marks, dtype: int64"
      ]
     },
     "execution_count": 55,
     "metadata": {},
     "output_type": "execute_result"
    }
   ],
   "source": [
    "marks_series"
   ]
  },
  {
   "cell_type": "code",
   "execution_count": 56,
   "id": "62c37169",
   "metadata": {},
   "outputs": [
    {
     "data": {
      "text/plain": [
       "0    23\n",
       "1    12\n",
       "2    34\n",
       "3    56\n",
       "4    89\n",
       "dtype: int64"
      ]
     },
     "execution_count": 56,
     "metadata": {},
     "output_type": "execute_result"
    }
   ],
   "source": [
    "# slicing\n",
    "runs_series = pd.Series([23, 12, 34, 56,89])\n",
    "runs_series"
   ]
  },
  {
   "cell_type": "code",
   "execution_count": 57,
   "id": "a22b91f1",
   "metadata": {},
   "outputs": [
    {
     "data": {
      "text/plain": [
       "0    23\n",
       "1    12\n",
       "2    78\n",
       "3    34\n",
       "4    89\n",
       "dtype: int64"
      ]
     },
     "execution_count": 57,
     "metadata": {},
     "output_type": "execute_result"
    }
   ],
   "source": [
    "runs_series[2:4] = [78, 34]\n",
    "runs_series"
   ]
  },
  {
   "cell_type": "code",
   "execution_count": 58,
   "id": "38e798d7",
   "metadata": {},
   "outputs": [
    {
     "data": {
      "text/plain": [
       "0    23\n",
       "1    12\n",
       "2     0\n",
       "3     0\n",
       "4     0\n",
       "dtype: int64"
      ]
     },
     "execution_count": 58,
     "metadata": {},
     "output_type": "execute_result"
    }
   ],
   "source": [
    "# fancy indexing\n",
    "runs_series[[2, 3, 4]] = [0, 0, 0]\n",
    "runs_series"
   ]
  },
  {
   "cell_type": "code",
   "execution_count": 144,
   "id": "1bd02987",
   "metadata": {},
   "outputs": [
    {
     "data": {
      "text/plain": [
       "movie\n",
       "Uri: The Surgical Strike                   Vicky Kaushal\n",
       "Battalion 609                                Vicky Ahuja\n",
       "The Accidental Prime Minister (film)         Anupam Kher\n",
       "Why Cheat India                            Emraan Hashmi\n",
       "Evening Shadows                         Mona Ambegaonkar\n",
       "                                              ...       \n",
       "Aankhen (2002 film)                     Amitabh Bachchan\n",
       "Saathiya (film)                             Vivek Oberoi\n",
       "Company (film)                                Ajay Devgn\n",
       "Awara Paagal Deewana                        Akshay Kumar\n",
       "Uri: The Surgical Strike                    Omkar Jadhav\n",
       "Name: lead, Length: 1501, dtype: object"
      ]
     },
     "execution_count": 144,
     "metadata": {},
     "output_type": "execute_result"
    }
   ],
   "source": [
    "# using index label\n",
    "bo[\"Uri: The Surgical Strike \"] = \"Omkar Jadhav\"\n",
    "bo"
   ]
  },
  {
   "cell_type": "markdown",
   "id": "3c4ed606",
   "metadata": {},
   "source": [
    "### Copy and Views"
   ]
  },
  {
   "cell_type": "code",
   "execution_count": null,
   "id": "ae95d260",
   "metadata": {},
   "outputs": [],
   "source": []
  },
  {
   "cell_type": "markdown",
   "id": "ede5ca38",
   "metadata": {},
   "source": [
    "### Series with Python Functionalities"
   ]
  },
  {
   "cell_type": "code",
   "execution_count": 152,
   "id": "63f04ea8",
   "metadata": {},
   "outputs": [
    {
     "name": "stdout",
     "output_type": "stream",
     "text": [
      "365 \n",
      "\n",
      "<class 'pandas.core.series.Series'> \n",
      "\n",
      "['T', '_AXIS_LEN', '_AXIS_ORDERS', '_AXIS_TO_AXIS_NUMBER', '_HANDLED_TYPES', '__abs__', '__add__', '__and__', '__annotations__', '__array__', '__array_priority__', '__array_ufunc__', '__array_wrap__', '__bool__', '__class__', '__contains__', '__copy__', '__deepcopy__', '__delattr__', '__delitem__', '__dict__', '__dir__', '__divmod__', '__doc__', '__eq__', '__finalize__', '__float__', '__floordiv__', '__format__', '__ge__', '__getattr__', '__getattribute__', '__getitem__', '__getstate__', '__gt__', '__hash__', '__iadd__', '__iand__', '__ifloordiv__', '__imod__', '__imul__', '__init__', '__init_subclass__', '__int__', '__invert__', '__ior__', '__ipow__', '__isub__', '__iter__', '__itruediv__', '__ixor__', '__le__', '__len__', '__long__', '__lt__', '__matmul__', '__mod__', '__module__', '__mul__', '__ne__', '__neg__', '__new__', '__nonzero__', '__or__', '__pos__', '__pow__', '__radd__', '__rand__', '__rdivmod__', '__reduce__', '__reduce_ex__', '__repr__', '__rfloordiv__', '__rmatmul__', '__rmod__', '__rmul__', '__ror__', '__round__', '__rpow__', '__rsub__', '__rtruediv__', '__rxor__', '__setattr__', '__setitem__', '__setstate__', '__sizeof__', '__str__', '__sub__', '__subclasshook__', '__truediv__', '__weakref__', '__xor__', '_accessors', '_accum_func', '_add_numeric_operations', '_agg_by_level', '_agg_examples_doc', '_agg_see_also_doc', '_align_frame', '_align_series', '_append', '_arith_method', '_as_manager', '_attrs', '_binop', '_cacher', '_can_hold_na', '_check_inplace_and_allows_duplicate_labels', '_check_inplace_setting', '_check_is_chained_assignment_possible', '_check_label_or_level_ambiguity', '_check_setitem_copy', '_clear_item_cache', '_clip_with_one_bound', '_clip_with_scalar', '_cmp_method', '_consolidate', '_consolidate_inplace', '_construct_axes_dict', '_construct_axes_from_arguments', '_construct_result', '_constructor', '_constructor_expanddim', '_convert', '_convert_dtypes', '_data', '_dir_additions', '_dir_deletions', '_drop_axis', '_drop_labels_or_levels', '_duplicated', '_find_valid_index', '_flags', '_from_mgr', '_get_axis', '_get_axis_name', '_get_axis_number', '_get_axis_resolvers', '_get_block_manager_axis', '_get_bool_data', '_get_cacher', '_get_cleaned_column_resolvers', '_get_index_resolvers', '_get_label_or_level_values', '_get_numeric_data', '_get_value', '_get_values', '_get_values_tuple', '_get_with', '_gotitem', '_hidden_attrs', '_indexed_same', '_info_axis', '_info_axis_name', '_info_axis_number', '_init_dict', '_init_mgr', '_inplace_method', '_internal_names', '_internal_names_set', '_is_cached', '_is_copy', '_is_label_or_level_reference', '_is_label_reference', '_is_level_reference', '_is_mixed_type', '_is_view', '_item_cache', '_ixs', '_logical_func', '_logical_method', '_map_values', '_maybe_update_cacher', '_memory_usage', '_metadata', '_mgr', '_min_count_stat_function', '_name', '_needs_reindex_multi', '_protect_consolidate', '_reduce', '_reindex_axes', '_reindex_indexer', '_reindex_multi', '_reindex_with_indexers', '_rename', '_replace_single', '_repr_data_resource_', '_repr_latex_', '_reset_cache', '_reset_cacher', '_set_as_cached', '_set_axis', '_set_axis_name', '_set_axis_nocheck', '_set_is_copy', '_set_labels', '_set_name', '_set_value', '_set_values', '_set_with', '_set_with_engine', '_slice', '_stat_axis', '_stat_axis_name', '_stat_axis_number', '_stat_function', '_stat_function_ddof', '_take_with_is_copy', '_typ', '_update_inplace', '_validate_dtype', '_values', '_where', 'abs', 'add', 'add_prefix', 'add_suffix', 'agg', 'aggregate', 'align', 'all', 'any', 'append', 'apply', 'argmax', 'argmin', 'argsort', 'array', 'asfreq', 'asof', 'astype', 'at', 'at_time', 'attrs', 'autocorr', 'axes', 'backfill', 'between', 'between_time', 'bfill', 'bool', 'clip', 'combine', 'combine_first', 'compare', 'convert_dtypes', 'copy', 'corr', 'count', 'cov', 'cummax', 'cummin', 'cumprod', 'cumsum', 'describe', 'diff', 'div', 'divide', 'divmod', 'dot', 'drop', 'drop_duplicates', 'droplevel', 'dropna', 'dtype', 'dtypes', 'duplicated', 'empty', 'eq', 'equals', 'ewm', 'expanding', 'explode', 'factorize', 'ffill', 'fillna', 'filter', 'first', 'first_valid_index', 'flags', 'floordiv', 'ge', 'get', 'groupby', 'gt', 'hasnans', 'head', 'hist', 'iat', 'idxmax', 'idxmin', 'iloc', 'index', 'infer_objects', 'info', 'interpolate', 'is_monotonic', 'is_monotonic_decreasing', 'is_monotonic_increasing', 'is_unique', 'isin', 'isna', 'isnull', 'item', 'items', 'iteritems', 'keys', 'kurt', 'kurtosis', 'last', 'last_valid_index', 'le', 'loc', 'lt', 'mad', 'map', 'mask', 'max', 'mean', 'median', 'memory_usage', 'min', 'mod', 'mode', 'mul', 'multiply', 'name', 'nbytes', 'ndim', 'ne', 'nlargest', 'notna', 'notnull', 'nsmallest', 'nunique', 'pad', 'pct_change', 'pipe', 'plot', 'pop', 'pow', 'prod', 'product', 'quantile', 'radd', 'rank', 'ravel', 'rdiv', 'rdivmod', 'reindex', 'reindex_like', 'rename', 'rename_axis', 'reorder_levels', 'repeat', 'replace', 'resample', 'reset_index', 'rfloordiv', 'rmod', 'rmul', 'rolling', 'round', 'rpow', 'rsub', 'rtruediv', 'sample', 'searchsorted', 'sem', 'set_axis', 'set_flags', 'shape', 'shift', 'size', 'skew', 'slice_shift', 'sort_index', 'sort_values', 'squeeze', 'std', 'sub', 'subtract', 'sum', 'swapaxes', 'swaplevel', 'tail', 'take', 'to_clipboard', 'to_csv', 'to_dict', 'to_excel', 'to_frame', 'to_hdf', 'to_json', 'to_latex', 'to_list', 'to_markdown', 'to_numpy', 'to_period', 'to_pickle', 'to_sql', 'to_string', 'to_timestamp', 'to_xarray', 'transform', 'transpose', 'truediv', 'truncate', 'tz_convert', 'tz_localize', 'unique', 'unstack', 'update', 'value_counts', 'values', 'var', 'view', 'where', 'xs'] \n",
      "\n",
      "[33, 33, 35, 37, 39, 40, 40, 40, 40, 42, 42, 43, 44, 44, 44, 45, 46, 46, 48, 49, 49, 49, 49, 50, 50, 50, 51, 54, 56, 56, 56, 56, 57, 61, 62, 64, 65, 65, 66, 66, 66, 66, 67, 68, 70, 70, 70, 71, 71, 72, 72, 72, 72, 72, 73, 74, 74, 75, 76, 76, 76, 76, 77, 77, 78, 78, 78, 79, 79, 80, 80, 80, 81, 81, 82, 82, 83, 83, 83, 84, 84, 84, 85, 86, 86, 86, 87, 87, 87, 87, 88, 88, 88, 88, 88, 89, 89, 89, 90, 90, 90, 90, 91, 92, 92, 92, 93, 93, 93, 93, 95, 95, 96, 96, 96, 96, 97, 97, 98, 98, 99, 99, 100, 100, 100, 101, 101, 101, 102, 102, 103, 103, 104, 104, 104, 105, 105, 105, 105, 105, 105, 105, 105, 105, 108, 108, 108, 108, 108, 108, 109, 109, 110, 110, 110, 111, 111, 112, 113, 113, 113, 114, 114, 114, 114, 115, 115, 115, 115, 117, 117, 117, 118, 118, 119, 119, 119, 119, 120, 122, 123, 123, 123, 123, 123, 124, 125, 126, 127, 128, 128, 129, 130, 131, 131, 132, 132, 134, 134, 134, 135, 135, 136, 136, 136, 137, 138, 138, 138, 139, 140, 144, 145, 146, 146, 146, 146, 147, 149, 150, 150, 150, 150, 151, 152, 152, 152, 153, 153, 153, 154, 154, 154, 155, 155, 156, 156, 156, 156, 157, 157, 157, 157, 158, 158, 159, 159, 160, 160, 160, 160, 162, 164, 166, 167, 167, 168, 170, 170, 170, 170, 171, 172, 172, 173, 173, 173, 174, 174, 175, 175, 176, 176, 177, 178, 179, 179, 180, 180, 180, 182, 183, 183, 183, 184, 184, 184, 185, 185, 185, 185, 186, 186, 186, 188, 189, 190, 190, 192, 192, 192, 196, 196, 196, 197, 197, 202, 202, 202, 203, 204, 206, 207, 209, 210, 210, 211, 212, 213, 214, 216, 219, 220, 221, 221, 222, 222, 224, 225, 225, 226, 227, 228, 229, 230, 231, 233, 236, 236, 237, 241, 243, 244, 245, 247, 249, 254, 254, 258, 259, 259, 261, 261, 265, 267, 268, 269, 276, 276, 290, 295, 301, 306, 312, 396] \n",
      "\n",
      "33 \n",
      "\n",
      "396 \n",
      "\n"
     ]
    }
   ],
   "source": [
    "print(len(subs), '\\n')\n",
    "print(type(subs), '\\n')\n",
    "print(dir(subs), '\\n')\n",
    "print(sorted(subs), '\\n')\n",
    "print(min(subs), '\\n')\n",
    "print(max(subs), '\\n')"
   ]
  },
  {
   "cell_type": "code",
   "execution_count": 153,
   "id": "42dfba3c",
   "metadata": {},
   "outputs": [
    {
     "data": {
      "text/plain": [
       "[97, 100, 80, 89, 98]"
      ]
     },
     "execution_count": 153,
     "metadata": {},
     "output_type": "execute_result"
    }
   ],
   "source": [
    "# type conversion\n",
    "list(marks_series)"
   ]
  },
  {
   "cell_type": "code",
   "execution_count": 154,
   "id": "543a34ec",
   "metadata": {},
   "outputs": [
    {
     "data": {
      "text/plain": [
       "{'Maths': 97, 'English': 100, 'MC': 80, 'History': 89, 'SS': 98}"
      ]
     },
     "execution_count": 154,
     "metadata": {},
     "output_type": "execute_result"
    }
   ],
   "source": [
    "dict(marks_series)"
   ]
  },
  {
   "cell_type": "code",
   "execution_count": 155,
   "id": "9c2cce50",
   "metadata": {},
   "outputs": [
    {
     "data": {
      "text/plain": [
       "movie\n",
       "Uri: The Surgical Strike                   Vicky Kaushal\n",
       "Battalion 609                                Vicky Ahuja\n",
       "The Accidental Prime Minister (film)         Anupam Kher\n",
       "Why Cheat India                            Emraan Hashmi\n",
       "Evening Shadows                         Mona Ambegaonkar\n",
       "                                              ...       \n",
       "Aankhen (2002 film)                     Amitabh Bachchan\n",
       "Saathiya (film)                             Vivek Oberoi\n",
       "Company (film)                                Ajay Devgn\n",
       "Awara Paagal Deewana                        Akshay Kumar\n",
       "Uri: The Surgical Strike                    Omkar Jadhav\n",
       "Name: lead, Length: 1501, dtype: object"
      ]
     },
     "execution_count": 155,
     "metadata": {},
     "output_type": "execute_result"
    }
   ],
   "source": [
    "# membership operator\n",
    "bo"
   ]
  },
  {
   "cell_type": "code",
   "execution_count": 161,
   "id": "5b838b51",
   "metadata": {},
   "outputs": [
    {
     "data": {
      "text/plain": [
       "True"
      ]
     },
     "execution_count": 161,
     "metadata": {},
     "output_type": "execute_result"
    }
   ],
   "source": [
    "\"Omkar Jadhav\" in bo.values"
   ]
  },
  {
   "cell_type": "code",
   "execution_count": 162,
   "id": "d97e5dc9",
   "metadata": {},
   "outputs": [
    {
     "data": {
      "text/plain": [
       "Maths       3\n",
       "English     0\n",
       "MC         20\n",
       "History    11\n",
       "SS          2\n",
       "Name: Omi's Marks, dtype: int64"
      ]
     },
     "execution_count": 162,
     "metadata": {},
     "output_type": "execute_result"
    }
   ],
   "source": [
    "# Arithmetic Operators\n",
    "100 - marks_series"
   ]
  },
  {
   "cell_type": "code",
   "execution_count": 167,
   "id": "133dd603",
   "metadata": {},
   "outputs": [
    {
     "data": {
      "text/plain": [
       "Maths      False\n",
       "English    False\n",
       "MC          True\n",
       "History     True\n",
       "SS         False\n",
       "Name: Omi's Marks, dtype: bool"
      ]
     },
     "execution_count": 167,
     "metadata": {},
     "output_type": "execute_result"
    }
   ],
   "source": [
    "# Relational Operator\n",
    "marks_series < 90 "
   ]
  },
  {
   "cell_type": "markdown",
   "id": "0583bcfe",
   "metadata": {},
   "source": [
    "### Boolean Indexing on Series"
   ]
  },
  {
   "cell_type": "code",
   "execution_count": 171,
   "id": "80824dba",
   "metadata": {},
   "outputs": [
    {
     "data": {
      "text/plain": [
       "167"
      ]
     },
     "execution_count": 171,
     "metadata": {},
     "output_type": "execute_result"
    }
   ],
   "source": [
    "# marks_series[marks_series < 90 ]\n",
    "kohli[kohli <= 50].size"
   ]
  },
  {
   "cell_type": "code",
   "execution_count": 176,
   "id": "1b939231",
   "metadata": {},
   "outputs": [
    {
     "data": {
      "text/plain": [
       "9"
      ]
     },
     "execution_count": 176,
     "metadata": {},
     "output_type": "execute_result"
    }
   ],
   "source": [
    "kohli[kohli == 0].size"
   ]
  },
  {
   "cell_type": "code",
   "execution_count": 183,
   "id": "11384b44",
   "metadata": {},
   "outputs": [
    {
     "data": {
      "text/plain": [
       "Akshay Kumar        48\n",
       "Amitabh Bachchan    45\n",
       "Ajay Devgn          38\n",
       "Salman Khan         31\n",
       "Sanjay Dutt         26\n",
       "Shah Rukh Khan      22\n",
       "Emraan Hashmi       21\n",
       "Name: lead, dtype: int64"
      ]
     },
     "execution_count": 183,
     "metadata": {},
     "output_type": "execute_result"
    }
   ],
   "source": [
    "# find actors who have done more than 20 movies\n",
    "num_movies = bo.value_counts()\n",
    "num_movies[num_movies > 20]"
   ]
  },
  {
   "cell_type": "markdown",
   "id": "2b9c8f75",
   "metadata": {},
   "source": [
    "### Plotting graphs on Series"
   ]
  },
  {
   "cell_type": "code",
   "execution_count": 185,
   "id": "ffc98a2f",
   "metadata": {},
   "outputs": [
    {
     "data": {
      "image/png": "[encoded data removed]",
      "text/plain": [
       "<Figure size 432x288 with 1 Axes>"
      ]
     },
     "metadata": {
      "needs_background": "light"
     },
     "output_type": "display_data"
    }
   ],
   "source": [
    "subs.plot();"
   ]
  },
  {
   "cell_type": "code",
   "execution_count": 192,
   "id": "a41db76f",
   "metadata": {},
   "outputs": [
    {
     "data": {
      "image/png": "[encoded data removed]",
      "text/plain": [
       "<Figure size 432x288 with 1 Axes>"
      ]
     },
     "metadata": {},
     "output_type": "display_data"
    }
   ],
   "source": [
    "top = bo.value_counts().head(20)\n",
    "top.plot(kind=\"pie\");"
   ]
  },
  {
   "cell_type": "markdown",
   "id": "5f5f7ceb",
   "metadata": {},
   "source": [
    "### Important Series Methods"
   ]
  },
  {
   "cell_type": "code",
   "execution_count": 60,
   "id": "07689ad8",
   "metadata": {},
   "outputs": [
    {
     "data": {
      "text/plain": [
       "11752"
      ]
     },
     "execution_count": 60,
     "metadata": {},
     "output_type": "execute_result"
    }
   ],
   "source": [
    "# astype\n",
    "import sys\n",
    "sys.getsizeof(kohli)"
   ]
  },
  {
   "cell_type": "code",
   "execution_count": 64,
   "id": "23a4b72f",
   "metadata": {},
   "outputs": [
    {
     "data": {
      "text/plain": [
       "10462"
      ]
     },
     "execution_count": 64,
     "metadata": {},
     "output_type": "execute_result"
    }
   ],
   "source": [
    "sys.getsizeof(kohli.astype(\"int16\"))"
   ]
  },
  {
   "cell_type": "code",
   "execution_count": 69,
   "id": "c4f3f60f",
   "metadata": {},
   "outputs": [
    {
     "data": {
      "text/plain": [
       "47"
      ]
     },
     "execution_count": 69,
     "metadata": {},
     "output_type": "execute_result"
    }
   ],
   "source": [
    "# between\n",
    "kohli[kohli.between(50, 100)].size"
   ]
  },
  {
   "cell_type": "code",
   "execution_count": 73,
   "id": "25eb252d",
   "metadata": {},
   "outputs": [
    {
     "data": {
      "text/plain": [
       "0      100\n",
       "1      100\n",
       "2      100\n",
       "3      100\n",
       "4      100\n",
       "      ... \n",
       "360    200\n",
       "361    200\n",
       "362    155\n",
       "363    144\n",
       "364    172\n",
       "Name: Subscribers gained, Length: 365, dtype: int64"
      ]
     },
     "execution_count": 73,
     "metadata": {},
     "output_type": "execute_result"
    }
   ],
   "source": [
    "# clip\n",
    "subs.clip(100, 200)"
   ]
  },
  {
   "cell_type": "code",
   "execution_count": 77,
   "id": "f30b0b36",
   "metadata": {},
   "outputs": [
    {
     "data": {
      "text/plain": [
       "0    1\n",
       "1    2\n",
       "4    4\n",
       "5    5\n",
       "6    7\n",
       "dtype: int64"
      ]
     },
     "execution_count": 77,
     "metadata": {},
     "output_type": "execute_result"
    }
   ],
   "source": [
    "# drop_duplicates\n",
    "temp = pd.Series([1, 2, 2, 1, 4, 5, 7, 5])\n",
    "temp.drop_duplicates()"
   ]
  },
  {
   "cell_type": "code",
   "execution_count": 82,
   "id": "dc7185dc",
   "metadata": {},
   "outputs": [
    {
     "data": {
      "text/plain": [
       "1500"
      ]
     },
     "execution_count": 82,
     "metadata": {},
     "output_type": "execute_result"
    }
   ],
   "source": [
    "bo.size"
   ]
  },
  {
   "cell_type": "code",
   "execution_count": 84,
   "id": "12611e67",
   "metadata": {},
   "outputs": [
    {
     "data": {
      "text/plain": [
       "566"
      ]
     },
     "execution_count": 84,
     "metadata": {},
     "output_type": "execute_result"
    }
   ],
   "source": [
    "bo.drop_duplicates().size"
   ]
  },
  {
   "cell_type": "code",
   "execution_count": 86,
   "id": "27fa7c8d",
   "metadata": {},
   "outputs": [
    {
     "data": {
      "text/plain": [
       "934"
      ]
     },
     "execution_count": 86,
     "metadata": {},
     "output_type": "execute_result"
    }
   ],
   "source": [
    "# duplicated()\n",
    "bo.duplicated().sum()"
   ]
  },
  {
   "cell_type": "code",
   "execution_count": 87,
   "id": "a0632cb1",
   "metadata": {},
   "outputs": [
    {
     "data": {
      "text/plain": [
       "137"
      ]
     },
     "execution_count": 87,
     "metadata": {},
     "output_type": "execute_result"
    }
   ],
   "source": [
    "kohli.duplicated().sum()"
   ]
  },
  {
   "cell_type": "code",
   "execution_count": 88,
   "id": "436ef5ad",
   "metadata": {},
   "outputs": [
    {
     "data": {
      "text/plain": [
       "0"
      ]
     },
     "execution_count": 88,
     "metadata": {},
     "output_type": "execute_result"
    }
   ],
   "source": [
    "# isnull() : gives number of missing values\n",
    "kohli.isnull().sum()"
   ]
  },
  {
   "cell_type": "code",
   "execution_count": 89,
   "id": "34ce9285",
   "metadata": {},
   "outputs": [
    {
     "data": {
      "text/plain": [
       "0"
      ]
     },
     "execution_count": 89,
     "metadata": {},
     "output_type": "execute_result"
    }
   ],
   "source": [
    "bo.isnull().sum()"
   ]
  },
  {
   "cell_type": "code",
   "execution_count": 90,
   "id": "da6814a1",
   "metadata": {},
   "outputs": [
    {
     "data": {
      "text/plain": [
       "0"
      ]
     },
     "execution_count": 90,
     "metadata": {},
     "output_type": "execute_result"
    }
   ],
   "source": [
    "subs.isnull().sum()"
   ]
  },
  {
   "cell_type": "code",
   "execution_count": 97,
   "id": "9672084e",
   "metadata": {},
   "outputs": [
    {
     "data": {
      "text/plain": [
       "0    1.0\n",
       "1    NaN\n",
       "2    1.0\n",
       "3    2.0\n",
       "4    3.0\n",
       "5    NaN\n",
       "6    5.0\n",
       "7    3.0\n",
       "8    NaN\n",
       "dtype: float64"
      ]
     },
     "execution_count": 97,
     "metadata": {},
     "output_type": "execute_result"
    }
   ],
   "source": [
    "# dropna()\n",
    "temp = pd.Series([1, np.nan, 1, 2, 3, np.nan, 5, 3, np.nan])\n",
    "temp"
   ]
  },
  {
   "cell_type": "code",
   "execution_count": 99,
   "id": "c5a16a3e",
   "metadata": {},
   "outputs": [
    {
     "data": {
      "text/plain": [
       "0    1.0\n",
       "2    1.0\n",
       "3    2.0\n",
       "4    3.0\n",
       "6    5.0\n",
       "7    3.0\n",
       "dtype: float64"
      ]
     },
     "execution_count": 99,
     "metadata": {},
     "output_type": "execute_result"
    }
   ],
   "source": [
    "temp.dropna()"
   ]
  },
  {
   "cell_type": "code",
   "execution_count": 100,
   "id": "94930248",
   "metadata": {},
   "outputs": [
    {
     "data": {
      "text/plain": [
       "0    1.0\n",
       "1    2.5\n",
       "2    1.0\n",
       "3    2.0\n",
       "4    3.0\n",
       "5    2.5\n",
       "6    5.0\n",
       "7    3.0\n",
       "8    2.5\n",
       "dtype: float64"
      ]
     },
     "execution_count": 100,
     "metadata": {},
     "output_type": "execute_result"
    }
   ],
   "source": [
    "# fillna()\n",
    "temp.fillna(temp.mean())"
   ]
  },
  {
   "cell_type": "code",
   "execution_count": 102,
   "id": "877376ee",
   "metadata": {},
   "outputs": [
    {
     "data": {
      "text/plain": [
       "match_no\n",
       "2      23\n",
       "39     23\n",
       "63     45\n",
       "159    23\n",
       "167    23\n",
       "Name: runs, dtype: int64"
      ]
     },
     "execution_count": 102,
     "metadata": {},
     "output_type": "execute_result"
    }
   ],
   "source": [
    "# isin\n",
    "kohli[kohli.isin([45, 23])] "
   ]
  },
  {
   "cell_type": "code",
   "execution_count": 106,
   "id": "01359654",
   "metadata": {},
   "outputs": [
    {
     "data": {
      "text/plain": [
       "movie\n",
       "Hum Tumhare Hain Sanam       SHAH\n",
       "Aankhen (2002 film)       AMITABH\n",
       "Saathiya (film)             VIVEK\n",
       "Company (film)               AJAY\n",
       "Awara Paagal Deewana       AKSHAY\n",
       "Name: lead, dtype: object"
      ]
     },
     "execution_count": 106,
     "metadata": {},
     "output_type": "execute_result"
    }
   ],
   "source": [
    "# apply\n",
    "bo.apply(lambda x:x.split()[0].upper()).tail()"
   ]
  },
  {
   "cell_type": "code",
   "execution_count": 110,
   "id": "ef65cb8c",
   "metadata": {},
   "outputs": [
    {
     "data": {
      "text/plain": [
       "0       bad day\n",
       "1       bad day\n",
       "2       bad day\n",
       "3       bad day\n",
       "4       bad day\n",
       "         ...   \n",
       "360    good day\n",
       "361    good day\n",
       "362    good day\n",
       "363    good day\n",
       "364    good day\n",
       "Name: Subscribers gained, Length: 365, dtype: object"
      ]
     },
     "execution_count": 110,
     "metadata": {},
     "output_type": "execute_result"
    }
   ],
   "source": [
    "subs.apply(lambda x:\"good day\" if x>subs.mean() else \"bad day\")"
   ]
  },
  {
   "cell_type": "code",
   "execution_count": 117,
   "id": "6c6697da",
   "metadata": {},
   "outputs": [
    {
     "name": "stdout",
     "output_type": "stream",
     "text": [
      "[[1 2 3 4 5]]\n"
     ]
    }
   ],
   "source": [
    "# copy()\n",
    "arr = np.array([1, 2, 4, 5])\n",
    "arr.ndim\n",
    "\n",
    "a = np.array([1, 2, 3, 4, 5], ndmin=2)\n",
    "print(a)"
   ]
  },
  {
   "cell_type": "code",
   "execution_count": 118,
   "id": "60ac52a6",
   "metadata": {},
   "outputs": [
    {
     "data": {
      "text/plain": [
       "dtype('int32')"
      ]
     },
     "execution_count": 118,
     "metadata": {},
     "output_type": "execute_result"
    }
   ],
   "source": [
    "np.dtype('i4')"
   ]
  },
  {
   "cell_type": "code",
   "execution_count": 119,
   "id": "6cd773f5",
   "metadata": {},
   "outputs": [
    {
     "data": {
      "text/plain": [
       "52"
      ]
     },
     "execution_count": 119,
     "metadata": {},
     "output_type": "execute_result"
    }
   ],
   "source": [
    "36+16"
   ]
  },
  {
   "cell_type": "code",
   "execution_count": 120,
   "id": "b4f68554",
   "metadata": {},
   "outputs": [
    {
     "data": {
      "text/plain": [
       "8.666666666666666"
      ]
     },
     "execution_count": 120,
     "metadata": {},
     "output_type": "execute_result"
    }
   ],
   "source": [
    "52/6"
   ]
  },
  {
   "cell_type": "code",
   "execution_count": null,
   "id": "4d984a1c",
   "metadata": {},
   "outputs": [],
   "source": []
  }
 ],
 "metadata": {
  "kernelspec": {
   "display_name": "Python 3 (ipykernel)",
   "language": "python",
   "name": "python3"
  },
  "language_info": {
   "codemirror_mode": {
    "name": "ipython",
    "version": 3
   },
   "file_extension": ".py",
   "mimetype": "text/x-python",
   "name": "python",
   "nbconvert_exporter": "python",
   "pygments_lexer": "ipython3",
   "version": "3.10.4"
  }
 },
 "nbformat": 4,
 "nbformat_minor": 5
}
